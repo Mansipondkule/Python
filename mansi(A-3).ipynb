{
 "cells": [
  {
   "cell_type": "code",
   "execution_count": 1,
   "id": "842b9efc-ea7a-4a4b-b14a-dd6853824583",
   "metadata": {},
   "outputs": [
    {
     "name": "stdout",
     "output_type": "stream",
     "text": [
      "sum: 22\n"
     ]
    }
   ],
   "source": [
    "a=10\n",
    "b=12\n",
    "print('sum:',a+b)"
   ]
  },
  {
   "cell_type": "code",
   "execution_count": 7,
   "id": "fa6b87df-325c-45c4-8f70-a3e9515801ac",
   "metadata": {},
   "outputs": [
    {
     "name": "stdout",
     "output_type": "stream",
     "text": [
      "subtraction: 6\n"
     ]
    }
   ],
   "source": [
    "a=8\n",
    "b=2\n",
    "print('subtraction:',a-b)"
   ]
  },
  {
   "cell_type": "code",
   "execution_count": 4,
   "id": "ca3d31e7-1250-499d-905e-805ab40c0d66",
   "metadata": {},
   "outputs": [
    {
     "name": "stdout",
     "output_type": "stream",
     "text": [
      "multiplication: 0\n"
     ]
    }
   ],
   "source": [
    "a=0\n",
    "b=12\n",
    "print('multiplication:',a*b)"
   ]
  },
  {
   "cell_type": "code",
   "execution_count": 8,
   "id": "f4cf7cf9-f0de-4c8b-b692-0057dca93bf5",
   "metadata": {},
   "outputs": [
    {
     "name": "stdout",
     "output_type": "stream",
     "text": [
      "division: 4.0\n"
     ]
    }
   ],
   "source": [
    "a=8\n",
    "b=2\n",
    "print('division:',a/b)"
   ]
  },
  {
   "cell_type": "code",
   "execution_count": 9,
   "id": "c284416f-1fbd-4699-8515-72b28c60ee30",
   "metadata": {},
   "outputs": [
    {
     "name": "stdout",
     "output_type": "stream",
     "text": [
      "False\n",
      "True\n",
      "True\n",
      "False\n",
      "True\n",
      "False\n"
     ]
    }
   ],
   "source": [
    "a=100 \n",
    "b=20\n",
    "print(a==b)\n",
    "print(a!=b)\n",
    "print(a>b)\n",
    "print(a<b)\n",
    "print(a>=b)\n",
    "print(a<=b)"
   ]
  },
  {
   "cell_type": "code",
   "execution_count": 18,
   "id": "2ba9e566-60be-4dd3-8a52-fabaf9d42228",
   "metadata": {},
   "outputs": [
    {
     "name": "stdout",
     "output_type": "stream",
     "text": [
      "50\n",
      "70\n",
      "50\n",
      "1000\n",
      "50.0\n",
      "10.0\n",
      "0.0\n"
     ]
    }
   ],
   "source": [
    "a=50\n",
    "b=20\n",
    "print(a)\n",
    "a+=b\n",
    "print(a)\n",
    "a-=b\n",
    "\n",
    "print(a)\n",
    "a*=b\n",
    "print(a)\n",
    "a/=b\n",
    "print(a)\n",
    "a%=b\n",
    "print(a)\n",
    "a//=b\n",
    "print(a)\n",
    "a**=b"
   ]
  }
 ],
 "metadata": {
  "kernelspec": {
   "display_name": "Python 3 (ipykernel)",
   "language": "python",
   "name": "python3"
  },
  "language_info": {
   "codemirror_mode": {
    "name": "ipython",
    "version": 3
   },
   "file_extension": ".py",
   "mimetype": "text/x-python",
   "name": "python",
   "nbconvert_exporter": "python",
   "pygments_lexer": "ipython3",
   "version": "3.12.4"
  }
 },
 "nbformat": 4,
 "nbformat_minor": 5
}
