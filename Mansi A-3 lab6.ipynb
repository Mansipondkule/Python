{
 "cells": [
  {
   "cell_type": "code",
   "execution_count": 1,
   "id": "7abcd2f5-b96d-4b8b-8d6f-e9a092ff1c68",
   "metadata": {},
   "outputs": [
    {
     "name": "stdout",
     "output_type": "stream",
     "text": [
      "Element 9 found at index 4\n"
     ]
    }
   ],
   "source": [
    "#LINEAR SEARCH ALGORITHM\n",
    "arr=[4,2,7,1,9,3,5]\n",
    "target=9\n",
    "found=False\n",
    "for i in range(len(arr)):\n",
    "    if arr[i]==target:\n",
    "        print(f\"Element {target} found at index {i}\")\n",
    "        found=True\n",
    "        break\n",
    "else:\n",
    "    print(F\"Element {target} is not in array\")"
   ]
  },
  {
   "cell_type": "code",
   "execution_count": 1,
   "id": "fc5b85b1-82c1-490a-b870-654deb9edc9d",
   "metadata": {},
   "outputs": [
    {
     "name": "stdin",
     "output_type": "stream",
     "text": [
      "Enter number of elements: 5\n",
      " 3\n",
      " 2\n",
      " 1\n",
      " 5\n",
      " 4\n"
     ]
    },
    {
     "name": "stdout",
     "output_type": "stream",
     "text": [
      "List: [3, 2, 1, 5, 4]\n"
     ]
    },
    {
     "name": "stdin",
     "output_type": "stream",
     "text": [
      "Enter the target: 3\n"
     ]
    },
    {
     "name": "stdout",
     "output_type": "stream",
     "text": [
      "Element 3 found at index 0\n"
     ]
    }
   ],
   "source": [
    "#WITH USER INPUT\n",
    "lst=[]\n",
    "n=int(input(\"Enter number of elements:\"))\n",
    "for j in range(0,n):\n",
    "    element=int(input())\n",
    "    lst.append(element)\n",
    "print(\"List:\",lst)\n",
    "target=int(input(\"Enter the target:\"))\n",
    "found=False\n",
    "\n",
    "for i in range(len(lst)):\n",
    "    if lst[i]==target:\n",
    "        print(f\"Element {target} found at index {i}\")\n",
    "        found=True\n",
    "        break\n",
    "else:\n",
    "    print(F\"Element {target} is not in array\")\n"
   ]
  },
  {
   "cell_type": "code",
   "execution_count": 2,
   "id": "c72399e1-c5e9-434c-838d-22e5e29d5182",
   "metadata": {},
   "outputs": [
    {
     "name": "stdout",
     "output_type": "stream",
     "text": [
      "Element 2 is not in array\n"
     ]
    }
   ],
   "source": [
    "#BINARY SEARCH ALGORITHM\n",
    "arr=[1,3,5,7,9,11,13,15,17,19]\n",
    "low=0\n",
    "high=len(arr)-1\n",
    "target=2\n",
    "found=False\n",
    "\n",
    "while(low<=high):\n",
    "    mid=(low+high)//2\n",
    "    if arr[mid]==target:\n",
    "        print(f\"Element {target} is found at index {mid}\")\n",
    "        break\n",
    "    elif arr[mid]<target:\n",
    "        low=mid+1\n",
    "    else:\n",
    "        high=mid-1\n",
    "else:\n",
    "    print(f\"Element {target} is not in array\")"
   ]
  }
 ],
 "metadata": {
  "kernelspec": {
   "display_name": "Python 3 (ipykernel)",
   "language": "python",
   "name": "python3"
  },
  "language_info": {
   "codemirror_mode": {
    "name": "ipython",
    "version": 3
   },
   "file_extension": ".py",
   "mimetype": "text/x-python",
   "name": "python",
   "nbconvert_exporter": "python",
   "pygments_lexer": "ipython3",
   "version": "3.12.4"
  }
 },
 "nbformat": 4,
 "nbformat_minor": 5
}
