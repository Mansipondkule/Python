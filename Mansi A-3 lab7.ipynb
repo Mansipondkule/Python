{
 "cells": [
  {
   "cell_type": "code",
   "execution_count": 3,
   "id": "cddbdfd1-cc3e-4ac1-9795-117554e6abb3",
   "metadata": {},
   "outputs": [
    {
     "name": "stdout",
     "output_type": "stream",
     "text": [
      "2.1.0\n"
     ]
    }
   ],
   "source": [
    "#write a python code to check the version of numpy\n",
    "import numpy as np\n",
    "print(np.__version__)"
   ]
  },
  {
   "cell_type": "code",
   "execution_count": 1,
   "id": "574114fa-d5bb-407d-97aa-4f221854fb47",
   "metadata": {},
   "outputs": [
    {
     "name": "stdout",
     "output_type": "stream",
     "text": [
      "True\n",
      "False\n"
     ]
    }
   ],
   "source": [
    "#program to test if any of the elements of a given array are non zero\n",
    "import numpy as np\n",
    "x=np.array([1,0,0,0])\n",
    "print(np.any(x))\n",
    "x=np.array([0,0,0,0])\n",
    "print(np.any(x))"
   ]
  },
  {
   "cell_type": "code",
   "execution_count": 2,
   "id": "3c58aad2-5942-43e7-baa2-88982074aac4",
   "metadata": {},
   "outputs": [
    {
     "name": "stdout",
     "output_type": "stream",
     "text": [
      "[ 1.  0. nan inf]\n",
      "test a given element wise for finiteness:\n",
      "[ True  True False False]\n"
     ]
    }
   ],
   "source": [
    "#program to test a given array element wise for finitness\n",
    "import numpy as np\n",
    "x=np.array([1,0,np.nan,np.inf])\n",
    "print(x)\n",
    "print(\"test a given element wise for finiteness:\")\n",
    "print(np.isfinite(x))"
   ]
  },
  {
   "cell_type": "code",
   "execution_count": 5,
   "id": "4515768f-2414-4ebe-9e73-d10372129d35",
   "metadata": {},
   "outputs": [
    {
     "name": "stdout",
     "output_type": "stream",
     "text": [
      "[False False  True False False False]\n",
      "[False False False  True False False]\n"
     ]
    }
   ],
   "source": [
    "#program to test element wise positive or negative infinity\n",
    "import numpy as np\n",
    "array=np.array([1,-2,np.inf,-np.inf,0,3.5])\n",
    "result_pos_inf=np.isposinf(array)\n",
    "result_neg_inf=np.isneginf(array)\n",
    "print(result_pos_inf)\n",
    "print(result_neg_inf)"
   ]
  },
  {
   "cell_type": "code",
   "execution_count": 6,
   "id": "b4da2c8f-8b8d-4d75-aedb-e8d789cea327",
   "metadata": {},
   "outputs": [
    {
     "name": "stdout",
     "output_type": "stream",
     "text": [
      "[30 32 34 36 38 40 42 44 46 48 50 52 54 56 58 60 62 64 66 68 70]\n"
     ]
    }
   ],
   "source": [
    "#program to create an array of integers from 30 to 70\n",
    "import numpy as np\n",
    "array=np.arange(30,71,2)\n",
    "print(array)"
   ]
  },
  {
   "cell_type": "code",
   "execution_count": 7,
   "id": "023df3d9-3b54-43e1-a161-668163f29c67",
   "metadata": {},
   "outputs": [
    {
     "name": "stdout",
     "output_type": "stream",
     "text": [
      "[30 31 32 33 34 35 36 37 38 39 40 41 42 43 44 45 46 47 48 49 50 51 52 53\n",
      " 54 55 56 57 58 59 60 61 62 63 64 65 66 67 68 69 70]\n"
     ]
    }
   ],
   "source": [
    "#program to print array in range\n",
    "import numpy as np\n",
    "array=np.arange(30,71)\n",
    "print(array)"
   ]
  },
  {
   "cell_type": "code",
   "execution_count": 9,
   "id": "f967630f-b898-4e14-aa81-fd46cf834f2b",
   "metadata": {},
   "outputs": [
    {
     "name": "stdout",
     "output_type": "stream",
     "text": [
      "[[1. 0. 0.]\n",
      " [0. 1. 0.]\n",
      " [0. 0. 1.]]\n"
     ]
    }
   ],
   "source": [
    "#to create 3*3 identity matrix\n",
    "import numpy as np\n",
    "arr_2D=np.identity(3)\n",
    "print(arr_2D)"
   ]
  },
  {
   "cell_type": "code",
   "execution_count": 10,
   "id": "fba1283a-5282-40fb-89d7-364248e7a4d7",
   "metadata": {},
   "outputs": [
    {
     "name": "stdout",
     "output_type": "stream",
     "text": [
      "[[1 0 0 0 0]\n",
      " [0 2 0 0 0]\n",
      " [0 0 3 0 0]\n",
      " [0 0 0 4 0]\n",
      " [0 0 0 0 5]]\n"
     ]
    }
   ],
   "source": [
    "#to create a 5*5 zero matrix with element on the main diagonal equal to 1,2,3,4,5\n",
    "import numpy as np\n",
    "x=np.diag([1,2,3,4,5])\n",
    "print(x)"
   ]
  },
  {
   "cell_type": "code",
   "execution_count": 12,
   "id": "6ae5eb75-8217-420a-a854-2db2c24bb5b0",
   "metadata": {},
   "outputs": [
    {
     "name": "stdout",
     "output_type": "stream",
     "text": [
      "[[3 1]\n",
      " [5 3]]\n",
      "To cross check\n",
      "[[3 1]\n",
      " [5 3]]\n"
     ]
    }
   ],
   "source": [
    "#program to generate a matrix product of 2 arrays\n",
    "import numpy as np\n",
    "x=[[1,0],[1,1]]\n",
    "y=[[3,1],[2,2]]\n",
    "print (np.dot(x,y))\n",
    "print(\"To cross check\")\n",
    "print(np.matmul(x,y))\n"
   ]
  },
  {
   "cell_type": "code",
   "execution_count": 13,
   "id": "98136bc9-f92c-422c-becb-b4469fc348e8",
   "metadata": {},
   "outputs": [
    {
     "name": "stdout",
     "output_type": "stream",
     "text": [
      "Addition of matrix\n",
      "[[4 1]\n",
      " [3 3]]\n",
      "Subtraction of matrix\n",
      "[[-2 -1]\n",
      " [-1 -1]]\n"
     ]
    }
   ],
   "source": [
    "#program to generate a matrix product of 2 arrays\n",
    "import numpy as np\n",
    "x=[[1,0],[1,1]]\n",
    "y=[[3,1],[2,2]]\n",
    "print(\"Addition of matrix\")\n",
    "print(np.add(x,y))\n",
    "print(\"Subtraction of matrix\")\n",
    "print(np.subtract(x,y))\n"
   ]
  },
  {
   "cell_type": "code",
   "execution_count": 16,
   "id": "57d384f1-c6c3-4387-8451-80791cd327ed",
   "metadata": {},
   "outputs": [
    {
     "name": "stdout",
     "output_type": "stream",
     "text": [
      "30.0\n"
     ]
    }
   ],
   "source": [
    "#w.p.p to find mean of 1D array\n",
    "import numpy as np\n",
    "arr=np.array([10,20,30,40,50])\n",
    "print(np.mean(arr))"
   ]
  },
  {
   "cell_type": "code",
   "execution_count": 21,
   "id": "badb7f74-bd00-4367-8c33-8741bfb2a121",
   "metadata": {},
   "outputs": [
    {
     "name": "stdout",
     "output_type": "stream",
     "text": [
      "[[10 30]\n",
      " [20 60]]\n",
      "mean of each column\n",
      "[15. 45.]\n",
      "mean of each row\n",
      "[20. 40.]\n"
     ]
    }
   ],
   "source": [
    "#to find mean of axis an array\n",
    "import numpy as np\n",
    "arr=np.array([[10,30],[20,60]])\n",
    "print(arr)\n",
    "print(\"mean of each column\")\n",
    "print(arr.mean(axis=0))\n",
    "print(\"mean of each row\")\n",
    "print(arr.mean(axis=1))"
   ]
  },
  {
   "cell_type": "code",
   "execution_count": 23,
   "id": "37292ded-4be6-4fb9-b840-11810cb69c6a",
   "metadata": {},
   "outputs": [
    {
     "name": "stdout",
     "output_type": "stream",
     "text": [
      "[[10 20 30]\n",
      " [40 50 60]]\n"
     ]
    }
   ],
   "source": [
    "#to convert 1D to 2D array with 2 rows\n",
    "import numpy as np\n",
    "arr=np.array([10,20,30,40,50,60])\n",
    "arr_2D=arr.reshape(2,3)\n",
    "print(arr_2D)"
   ]
  },
  {
   "cell_type": "code",
   "execution_count": 24,
   "id": "056af629-0105-4124-bc8e-914adb8187e5",
   "metadata": {},
   "outputs": [
    {
     "name": "stdout",
     "output_type": "stream",
     "text": [
      "[0 1 2 3 4 5 6 7 8 9]\n"
     ]
    }
   ],
   "source": [
    "#create 1D array in range 0 to 9\n",
    "import numpy as np\n",
    "arr=np.arange(0,10)\n",
    "print(arr)"
   ]
  }
 ],
 "metadata": {
  "kernelspec": {
   "display_name": "Python 3 (ipykernel)",
   "language": "python",
   "name": "python3"
  },
  "language_info": {
   "codemirror_mode": {
    "name": "ipython",
    "version": 3
   },
   "file_extension": ".py",
   "mimetype": "text/x-python",
   "name": "python",
   "nbconvert_exporter": "python",
   "pygments_lexer": "ipython3",
   "version": "3.12.5"
  }
 },
 "nbformat": 4,
 "nbformat_minor": 5
}
