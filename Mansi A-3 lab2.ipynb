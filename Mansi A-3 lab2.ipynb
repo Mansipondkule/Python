{
 "cells": [
  {
   "cell_type": "code",
   "execution_count": 2,
   "id": "83494be9",
   "metadata": {},
   "outputs": [
    {
     "name": "stdout",
     "output_type": "stream",
     "text": [
      "{1: 'python', 2: 'java', 3: 'c++'}\n"
     ]
    }
   ],
   "source": [
    "dict={1:\"python\",2:\"java\",3:\"c++\"}\n",
    "print(dict)"
   ]
  },
  {
   "cell_type": "code",
   "execution_count": 3,
   "id": "fa70fe8c",
   "metadata": {},
   "outputs": [
    {
     "name": "stdout",
     "output_type": "stream",
     "text": [
      "{1: 'apple', 2: 'mackbook'}\n",
      "2\n"
     ]
    }
   ],
   "source": [
    "my_dict1={1:'apple',2:'mackbook'}\n",
    "print(my_dict1)\n",
    "print(len(my_dict1))"
   ]
  },
  {
   "cell_type": "code",
   "execution_count": 17,
   "id": "e7a89851",
   "metadata": {},
   "outputs": [
    {
     "name": "stdout",
     "output_type": "stream",
     "text": [
      "python\n"
     ]
    }
   ],
   "source": [
    "my_dict={1:'python',2:'java',3:'c++',4:'c','L':\"Good Language\"}\n",
    "print(my_dict[1])\n"
   ]
  },
  {
   "cell_type": "code",
   "execution_count": 16,
   "id": "e3f9155c",
   "metadata": {},
   "outputs": [
    {
     "name": "stdout",
     "output_type": "stream",
     "text": [
      "c++\n"
     ]
    }
   ],
   "source": [
    "my_dict={1:'python',2:'java',3:'c++',4:'c','L':\"Good Language\"}\n",
    "print(my_dict[3])"
   ]
  },
  {
   "cell_type": "code",
   "execution_count": 19,
   "id": "0e1ac2f2",
   "metadata": {},
   "outputs": [
    {
     "name": "stdout",
     "output_type": "stream",
     "text": [
      "{'name': 'arthur', 'age': 34}\n",
      "{'name': 'arthur', 'age': 34, 'address': 'downtown'}\n"
     ]
    }
   ],
   "source": [
    "my_dict={'name':'arthur','age':24}\n",
    "my_dict['age']=34\n",
    "print(my_dict)\n",
    "my_dict['address']='downtown'\n",
    "print(my_dict)"
   ]
  },
  {
   "cell_type": "code",
   "execution_count": 22,
   "id": "644708d1",
   "metadata": {},
   "outputs": [
    {
     "name": "stdout",
     "output_type": "stream",
     "text": [
      "{1: 'arthur', 2: 'java', 3: 'c'}\n",
      "{1: 'arthur', 2: 'java', 3: 'c', 4: 'R programming'}\n",
      "{1: 'arthur', 2: 'java', 3: 'c', 4: 'R programming', 5: 'php'}\n"
     ]
    }
   ],
   "source": [
    "my_dict={1:'arthur',2:'java',3:'c'}\n",
    "print(my_dict)\n",
    "my_dict[4]='R programming'\n",
    "print(my_dict)\n",
    "my_dict[5]='php'\n",
    "print(my_dict)"
   ]
  },
  {
   "cell_type": "code",
   "execution_count": 23,
   "id": "e56b6c10",
   "metadata": {},
   "outputs": [
    {
     "name": "stdout",
     "output_type": "stream",
     "text": [
      "16\n",
      "{1: 1, 2: 4, 3: 9, 5: 25}\n",
      "(5, 25)\n",
      "{1: 1, 2: 4, 3: 9}\n"
     ]
    }
   ],
   "source": [
    "squares={1:1,2:4,3:9,4:16,5:25}\n",
    "print(squares.pop(4))\n",
    "print(squares)\n",
    "print(squares.popitem())\n",
    "print(squares)"
   ]
  },
  {
   "cell_type": "code",
   "execution_count": 24,
   "id": "708f0798",
   "metadata": {},
   "outputs": [
    {
     "name": "stdout",
     "output_type": "stream",
     "text": [
      "{1: 'python', 2: 'java', 3: 'c++'}\n",
      "dict_items([(1, 'python'), (2, 'java'), (3, 'c++')])\n"
     ]
    }
   ],
   "source": [
    "dict1={1:\"python\",2:\"java\",3:\"c++\"}\n",
    "dict2=dict1.copy()\n",
    "print(dict2)\n",
    "print(dict1.items())"
   ]
  },
  {
   "cell_type": "code",
   "execution_count": 53,
   "id": "4b0374cb",
   "metadata": {},
   "outputs": [
    {
     "name": "stdout",
     "output_type": "stream",
     "text": [
      "{'python': 50, 'java': 50, 'c++': 50}\n"
     ]
    }
   ],
   "source": [
    "seq=('python','java','c++')\n",
    "my_dict=my_dict.fromkeys(seq,50)\n",
    "print(my_dict)"
   ]
  },
  {
   "cell_type": "code",
   "execution_count": 32,
   "id": "37aa573a",
   "metadata": {},
   "outputs": [
    {
     "name": "stdout",
     "output_type": "stream",
     "text": [
      "True\n",
      "False\n"
     ]
    }
   ],
   "source": [
    "dict1={1:1,2:4,3:9,4:16,5:25}\n",
    "print(1 in dict1)\n",
    "print(2 not in dict1)"
   ]
  },
  {
   "cell_type": "code",
   "execution_count": 36,
   "id": "9979c58b",
   "metadata": {},
   "outputs": [
    {
     "name": "stdout",
     "output_type": "stream",
     "text": [
      "{'banana', 'cherry', 'apple', 'orange'}\n",
      "{'banana', 'cherry', 'apple', 'orange'}\n",
      "set()\n"
     ]
    }
   ],
   "source": [
    "fruits={\"apple\",'banana','cherry'}\n",
    "fruits.add(\"orange\")\n",
    "print(fruits)\n",
    "fruits.add(\"apple\")\n",
    "print(fruits)\n",
    "fruits.clear()\n",
    "print(fruits)"
   ]
  },
  {
   "cell_type": "code",
   "execution_count": 42,
   "id": "f531f552",
   "metadata": {},
   "outputs": [
    {
     "name": "stdout",
     "output_type": "stream",
     "text": [
      "{'cherry'}\n"
     ]
    }
   ],
   "source": [
    "x={\"apple\",'banana','cherry'}\n",
    "y={\"orange\",\"apple\",'banana','apple'}\n",
    "z=x-y\n",
    "print(z)"
   ]
  },
  {
   "cell_type": "code",
   "execution_count": 57,
   "id": "97723962",
   "metadata": {},
   "outputs": [
    {
     "name": "stdout",
     "output_type": "stream",
     "text": [
      "hii\n"
     ]
    }
   ],
   "source": [
    "print('hii')\n"
   ]
  },
  {
   "cell_type": "code",
   "execution_count": null,
   "id": "8ac991cb",
   "metadata": {},
   "outputs": [],
   "source": []
  }
 ],
 "metadata": {
  "kernelspec": {
   "display_name": "Python 3 (ipykernel)",
   "language": "python",
   "name": "python3"
  },
  "language_info": {
   "codemirror_mode": {
    "name": "ipython",
    "version": 3
   },
   "file_extension": ".py",
   "mimetype": "text/x-python",
   "name": "python",
   "nbconvert_exporter": "python",
   "pygments_lexer": "ipython3",
   "version": "3.9.12"
  }
 },
 "nbformat": 4,
 "nbformat_minor": 5
}
