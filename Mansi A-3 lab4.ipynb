{
 "cells": [
  {
   "cell_type": "code",
   "execution_count": 1,
   "id": "aeacaebb-a849-4c38-b5a7-181efb7bea65",
   "metadata": {},
   "outputs": [
    {
     "name": "stdin",
     "output_type": "stream",
     "text": [
      "Enter a number: 4\n",
      "Enter another number: 2\n"
     ]
    },
    {
     "name": "stdout",
     "output_type": "stream",
     "text": [
      "4 is a greater number\n"
     ]
    }
   ],
   "source": [
    "#IF-ELSE STATEMENT\n",
    "a=int(input(\"Enter a number:\"))\n",
    "b=int(input(\"Enter another number:\"))\n",
    "if a>b:\n",
    "    print(a,\"is a greater number\")\n",
    "else:\n",
    "    print(b,\"is a greater number\")\n"
   ]
  },
  {
   "cell_type": "code",
   "execution_count": 3,
   "id": "ee15be4a-96fe-4b7b-9ef2-c2438f94c314",
   "metadata": {},
   "outputs": [
    {
     "name": "stdin",
     "output_type": "stream",
     "text": [
      "Enter your age: 15\n"
     ]
    },
    {
     "name": "stdout",
     "output_type": "stream",
     "text": [
      "You are not eligible to Vote\n",
      "There are 3 years left to be eligible to vote\n"
     ]
    }
   ],
   "source": [
    "#CHECK ELIGIBILITY\n",
    "a=int(input(\"Enter your age:\"))\n",
    "if a>18:\n",
    "    print(\"You are eligible to Vote\")\n",
    "else:\n",
    "    print(\"You are not eligible to Vote\")\n",
    "left=18-a\n",
    "print(f\"There are {left} years left to be eligible to vote\")\n"
   ]
  },
  {
   "cell_type": "code",
   "execution_count": 4,
   "id": "2194567d-18e7-4043-96d0-778561f27c2b",
   "metadata": {},
   "outputs": [
    {
     "name": "stdin",
     "output_type": "stream",
     "text": [
      "Enter 1st number 6\n",
      "Enter 2nd number 5\n",
      "Enter 3rd number 8\n"
     ]
    },
    {
     "name": "stdout",
     "output_type": "stream",
     "text": [
      "8 is the greatest number\n"
     ]
    }
   ],
   "source": [
    "#IF-ELIF-ELSE STATEMENT\n",
    "a=int(input(\"Enter 1st number\"))\n",
    "b=int(input(\"Enter 2nd number\"))\n",
    "c=int(input(\"Enter 3rd number\"))\n",
    "if a>b and a>c:\n",
    "    print(a,\"is the greatest number\")\n",
    "elif b>a and b>c:\n",
    "    print(b,\"is the greatest number\")\n",
    "else:\n",
    "    print(c,\"is the greatest number\")\n"
   ]
  },
  {
   "cell_type": "code",
   "execution_count": 5,
   "id": "929c64f9-724a-4677-9c9a-4bf1864b5667",
   "metadata": {},
   "outputs": [
    {
     "name": "stdin",
     "output_type": "stream",
     "text": [
      "Enter a number: 82\n"
     ]
    },
    {
     "name": "stdout",
     "output_type": "stream",
     "text": [
      "82 ranges above 30\n"
     ]
    }
   ],
   "source": [
    "#COMPOUND STATEMENT\n",
    "a=int(input(\"Enter a number:\"))\n",
    "if a<=10:\n",
    "    print(a,\"ranges between 0 to 10\")\n",
    "if a>0 and a<=20:\n",
    "    print(a,\"ranges between 10 to 20\")    \n",
    "if a>20 and a<=30:\n",
    "    print(a,\"ranges between 20 to 30\")    \n",
    "if a>30:\n",
    "    print(a,\"ranges above 30\")\n"
   ]
  },
  {
   "cell_type": "code",
   "execution_count": 6,
   "id": "63667845-7365-4a72-8941-a2bc7e5ba42b",
   "metadata": {},
   "outputs": [
    {
     "name": "stdin",
     "output_type": "stream",
     "text": [
      "Enter num1: 2\n",
      "Enter num2: 4\n",
      "Enter num3: 6\n"
     ]
    },
    {
     "name": "stdout",
     "output_type": "stream",
     "text": [
      "All numbers are same\n"
     ]
    }
   ],
   "source": [
    "#NESTED-IF\n",
    "num1=int(input(\"Enter num1:\"))\n",
    "num2=int(input(\"Enter num2:\"))\n",
    "num3=int(input(\"Enter num3:\"))\n",
    "if (num1>num2):\n",
    "    if (num1>num3):\n",
    "        print(num1,\"is the greatest\")\n",
    "    else:\n",
    "        print(num3,\"is the greatest\")\n",
    "\n",
    "elif (num2>num3):\n",
    "    print(num2,\"is the greatest\")\n",
    "\n",
    "else:\n",
    "    print(\"All numbers are same\")"
   ]
  },
  {
   "cell_type": "code",
   "execution_count": 7,
   "id": "b49f0933-1886-42b8-ad8e-67a433e61f59",
   "metadata": {},
   "outputs": [
    {
     "name": "stdout",
     "output_type": "stream",
     "text": [
      "0\n",
      "1\n",
      "2\n",
      "3\n",
      "4\n",
      "5\n",
      "6\n",
      "7\n",
      "8\n",
      "9\n",
      "10\n"
     ]
    }
   ],
   "source": [
    "#WHILE LOOP\n",
    "i=0\n",
    "while(i<=10):\n",
    "    print(i)\n",
    "    i+=1\n"
   ]
  }
 ],
 "metadata": {
  "kernelspec": {
   "display_name": "Python 3 (ipykernel)",
   "language": "python",
   "name": "python3"
  },
  "language_info": {
   "codemirror_mode": {
    "name": "ipython",
    "version": 3
   },
   "file_extension": ".py",
   "mimetype": "text/x-python",
   "name": "python",
   "nbconvert_exporter": "python",
   "pygments_lexer": "ipython3",
   "version": "3.12.5"
  }
 },
 "nbformat": 4,
 "nbformat_minor": 5
}
